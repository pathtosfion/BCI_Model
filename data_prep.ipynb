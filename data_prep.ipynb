{
  "nbformat": 4,
  "nbformat_minor": 0,
  "metadata": {
    "colab": {
      "provenance": [],
      "authorship_tag": "ABX9TyOYWMLHd6W5NEpD8jCUNlcq",
      "include_colab_link": true
    },
    "kernelspec": {
      "name": "python3",
      "display_name": "Python 3"
    },
    "language_info": {
      "name": "python"
    }
  },
  "cells": [
    {
      "cell_type": "markdown",
      "metadata": {
        "id": "view-in-github",
        "colab_type": "text"
      },
      "source": [
        "<a href=\"https://colab.research.google.com/github/pathtosfion/BCI_Model/blob/main/data_prep.ipynb\" target=\"_parent\"><img src=\"https://colab.research.google.com/assets/colab-badge.svg\" alt=\"Open In Colab\"/></a>"
      ]
    },
    {
      "cell_type": "code",
      "execution_count": null,
      "metadata": {
        "id": "SVxnDiU9_4Dg"
      },
      "outputs": [],
      "source": []
    },
    {
      "cell_type": "code",
      "execution_count": null,
      "metadata": {
        "id": "nPQUk7NQft6f"
      },
      "outputs": [],
      "source": [
        "import os\n",
        "import mne\n",
        "import csv\n",
        "%pip install mne\n",
        "import numpy as pd\n",
        "import pandas as pd\n",
        "from glob import glob\n",
        "!pip install matplotlib\n",
        "import matplotlib.pyplot as plt\n",
        "from sklearn.linear_model import LinearRegression\n",
        "from sklearn.model_selection import train_test_split\n",
        "from sklearn.metrics import mean_squared_error, r2_score\n",
        "\n"
      ]
    },
    {
      "cell_type": "code",
      "source": [
        "eg_id = \"eg_id\"\n",
        "eeg_sub_id = \"eeg_sub_id\"\n",
        "eeg_label_offset_seconds = \"eeg_label_offset_seconds\"\n",
        "spectrogram_id = \"spectrogram_id\"\n",
        "spectrogram_sub_id = \"spectrogram_sub_id\"\n",
        "spectrogram_label_offset_seconds = \"spectrogram_label_offset_seconds\"\n",
        "label_id = \"label_id\"\n",
        "patient_id = \"patient_id\"\n",
        "expert_consensus = \"expert_consensus\"\n",
        "seizure_vote = \"seizure_vote\"\n",
        "lpd_vote = \"lpd_vote\"\n",
        "gpd_vote = \"gpd_vote\"\n",
        "lrda_vote = \"lrda_vote\"\n",
        "grda_vote = \"grda_vote\"\n",
        "other_vote = \"other_vote\""
      ],
      "metadata": {
        "id": "fETayew91OXX"
      },
      "execution_count": null,
      "outputs": []
    },
    {
      "cell_type": "code",
      "source": [
        "data = ['3251162793', '4', '12.0', '436822980', '4', '12.0', '3299719771', '61433', 'GRDA', '0', '0', '0', '0', '3', '0']\n",
        "df = pd.DataFrame([data], columns=[\"eg_id,eeg_sub_id,eeg_label_offset_seconds,spectrogram_id,spectrogram_sub_id,spectrogram_label_offset_seconds,label_id,patient_id,expert_consensus,seizure_vote,lpd_vote,gpd_vote,lrda_vote,grda_vote,other_vote\"])\n",
        "df.iloc[0, 9:15] = df.iloc[0, 9:15].apply(lambda x: 0.001 if x == 0 else x)\n",
        "print(df)"
      ],
      "metadata": {
        "id": "xJbYTrDqIsmn"
      },
      "execution_count": null,
      "outputs": []
    },
    {
      "cell_type": "code",
      "source": [
        "with open('/content/train.csv', 'r') as file:\n",
        "    reader = csv.reader(file)\n",
        "    for header in reader:\n",
        "        df.head()# Print the first 5 rows of the DataFrame\n",
        "        print()# Print a blank line\n",
        "        print(df.columns)# Print the column name\n",
        "\n",
        "for value in reader:\n",
        "    if value == 0:\n",
        "        new_list.append(value + 0.01)\n",
        "    else:\n",
        "        new_list.append(value)\n",
        "\n",
        "\n",
        "with open('/content/train.csv', 'r') as file:\n",
        "    reader = csv.reader(file)\n",
        "    for row in reader:\n",
        "        print(row)"
      ],
      "metadata": {
        "id": "AAsFTM_0tsy5"
      },
      "execution_count": null,
      "outputs": []
    },
    {
      "cell_type": "code",
      "source": [
        "df = pd.DataFrame([data], columns=[eg_id, eeg_sub_id, eeg_label_offset_seconds, spectrogram_id, spectrogram_sub_id, spectrogram_label_offset_seconds, label_id, patient_id, expert_consensus, seizure_vote, lpd_vote, gpd_vote, lrda_vote, grda_vote, other_vote])"
      ],
      "metadata": {
        "id": "6qBhoRTL4VLo"
      },
      "execution_count": null,
      "outputs": []
    },
    {
      "cell_type": "code",
      "source": [
        "df.iloc[0, 9:15] = df.iloc[0, 9:15].apply(lambda x: 0.001 if x == 0 else x)"
      ],
      "metadata": {
        "id": "AvdEZPsdDVX7"
      },
      "execution_count": null,
      "outputs": []
    },
    {
      "cell_type": "code",
      "source": [
        "df.iloc[0, 9:15] = df.iloc[0, 9:15].apply(lambda data: 0.001 if data == 0 else data)"
      ],
      "metadata": {
        "id": "OVLcs0tkEzgO"
      },
      "execution_count": null,
      "outputs": []
    },
    {
      "cell_type": "code",
      "source": [
        "print(df)"
      ],
      "metadata": {
        "id": "oOXs58ndE4Gt"
      },
      "execution_count": null,
      "outputs": []
    }
  ]
}